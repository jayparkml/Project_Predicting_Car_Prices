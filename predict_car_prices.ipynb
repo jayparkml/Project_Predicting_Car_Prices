{
 "cells": [
  {
   "cell_type": "markdown",
   "metadata": {
    "collapsed": true
   },
   "source": [
    "# Predicting a car's market price by k-nearest neighbors algorithm\n",
    "In this guided project, we'll practice the machine learning workflow to predict a car's market price using its attributes. The data set we will be working with contains information on various cars. For each car we have information about the technical aspects of the vehicle such as the motor's displacement, the weight of the car, the miles per gallon, how fast the car accelerates, and more. We can read more about the data set from [UCI Machine Learning Repository](https://archive.ics.uci.edu/ml/datasets/automobile). "
   ]
  },
  {
   "cell_type": "markdown",
   "metadata": {},
   "source": [
    "## Introduction to dataset"
   ]
  },
  {
   "cell_type": "code",
   "execution_count": 1,
   "metadata": {
    "collapsed": true
   },
   "outputs": [],
   "source": [
    "#import and see the first 5 rows of the dataset\n",
    "import pandas as pd\n",
    "import numpy as np\n",
    "pd.options.display.max_columns = 99\n"
   ]
  },
  {
   "cell_type": "code",
   "execution_count": 2,
   "metadata": {
    "collapsed": false
   },
   "outputs": [
    {
     "data": {
      "text/html": [
       "<div>\n",
       "<style scoped>\n",
       "    .dataframe tbody tr th:only-of-type {\n",
       "        vertical-align: middle;\n",
       "    }\n",
       "\n",
       "    .dataframe tbody tr th {\n",
       "        vertical-align: top;\n",
       "    }\n",
       "\n",
       "    .dataframe thead th {\n",
       "        text-align: right;\n",
       "    }\n",
       "</style>\n",
       "<table border=\"1\" class=\"dataframe\">\n",
       "  <thead>\n",
       "    <tr style=\"text-align: right;\">\n",
       "      <th></th>\n",
       "      <th>symboling</th>\n",
       "      <th>normalized-losses</th>\n",
       "      <th>make</th>\n",
       "      <th>fuel-type</th>\n",
       "      <th>aspiration</th>\n",
       "      <th>num-of-doors</th>\n",
       "      <th>body-style</th>\n",
       "      <th>drive-wheels</th>\n",
       "      <th>engine-location</th>\n",
       "      <th>wheel-base</th>\n",
       "      <th>length</th>\n",
       "      <th>width</th>\n",
       "      <th>height</th>\n",
       "      <th>curb-weight</th>\n",
       "      <th>engine-type</th>\n",
       "      <th>num-of-cylinders</th>\n",
       "      <th>engine-size</th>\n",
       "      <th>fuel-system</th>\n",
       "      <th>bore</th>\n",
       "      <th>stroke</th>\n",
       "      <th>compression-rate</th>\n",
       "      <th>horsepower</th>\n",
       "      <th>peak-rpm</th>\n",
       "      <th>city-mpg</th>\n",
       "      <th>highway-mpg</th>\n",
       "      <th>price</th>\n",
       "    </tr>\n",
       "  </thead>\n",
       "  <tbody>\n",
       "    <tr>\n",
       "      <th>0</th>\n",
       "      <td>3</td>\n",
       "      <td>?</td>\n",
       "      <td>alfa-romero</td>\n",
       "      <td>gas</td>\n",
       "      <td>std</td>\n",
       "      <td>two</td>\n",
       "      <td>convertible</td>\n",
       "      <td>rwd</td>\n",
       "      <td>front</td>\n",
       "      <td>88.6</td>\n",
       "      <td>168.8</td>\n",
       "      <td>64.1</td>\n",
       "      <td>48.8</td>\n",
       "      <td>2548</td>\n",
       "      <td>dohc</td>\n",
       "      <td>four</td>\n",
       "      <td>130</td>\n",
       "      <td>mpfi</td>\n",
       "      <td>3.47</td>\n",
       "      <td>2.68</td>\n",
       "      <td>9.0</td>\n",
       "      <td>111</td>\n",
       "      <td>5000</td>\n",
       "      <td>21</td>\n",
       "      <td>27</td>\n",
       "      <td>13495</td>\n",
       "    </tr>\n",
       "    <tr>\n",
       "      <th>1</th>\n",
       "      <td>3</td>\n",
       "      <td>?</td>\n",
       "      <td>alfa-romero</td>\n",
       "      <td>gas</td>\n",
       "      <td>std</td>\n",
       "      <td>two</td>\n",
       "      <td>convertible</td>\n",
       "      <td>rwd</td>\n",
       "      <td>front</td>\n",
       "      <td>88.6</td>\n",
       "      <td>168.8</td>\n",
       "      <td>64.1</td>\n",
       "      <td>48.8</td>\n",
       "      <td>2548</td>\n",
       "      <td>dohc</td>\n",
       "      <td>four</td>\n",
       "      <td>130</td>\n",
       "      <td>mpfi</td>\n",
       "      <td>3.47</td>\n",
       "      <td>2.68</td>\n",
       "      <td>9.0</td>\n",
       "      <td>111</td>\n",
       "      <td>5000</td>\n",
       "      <td>21</td>\n",
       "      <td>27</td>\n",
       "      <td>16500</td>\n",
       "    </tr>\n",
       "    <tr>\n",
       "      <th>2</th>\n",
       "      <td>1</td>\n",
       "      <td>?</td>\n",
       "      <td>alfa-romero</td>\n",
       "      <td>gas</td>\n",
       "      <td>std</td>\n",
       "      <td>two</td>\n",
       "      <td>hatchback</td>\n",
       "      <td>rwd</td>\n",
       "      <td>front</td>\n",
       "      <td>94.5</td>\n",
       "      <td>171.2</td>\n",
       "      <td>65.5</td>\n",
       "      <td>52.4</td>\n",
       "      <td>2823</td>\n",
       "      <td>ohcv</td>\n",
       "      <td>six</td>\n",
       "      <td>152</td>\n",
       "      <td>mpfi</td>\n",
       "      <td>2.68</td>\n",
       "      <td>3.47</td>\n",
       "      <td>9.0</td>\n",
       "      <td>154</td>\n",
       "      <td>5000</td>\n",
       "      <td>19</td>\n",
       "      <td>26</td>\n",
       "      <td>16500</td>\n",
       "    </tr>\n",
       "    <tr>\n",
       "      <th>3</th>\n",
       "      <td>2</td>\n",
       "      <td>164</td>\n",
       "      <td>audi</td>\n",
       "      <td>gas</td>\n",
       "      <td>std</td>\n",
       "      <td>four</td>\n",
       "      <td>sedan</td>\n",
       "      <td>fwd</td>\n",
       "      <td>front</td>\n",
       "      <td>99.8</td>\n",
       "      <td>176.6</td>\n",
       "      <td>66.2</td>\n",
       "      <td>54.3</td>\n",
       "      <td>2337</td>\n",
       "      <td>ohc</td>\n",
       "      <td>four</td>\n",
       "      <td>109</td>\n",
       "      <td>mpfi</td>\n",
       "      <td>3.19</td>\n",
       "      <td>3.40</td>\n",
       "      <td>10.0</td>\n",
       "      <td>102</td>\n",
       "      <td>5500</td>\n",
       "      <td>24</td>\n",
       "      <td>30</td>\n",
       "      <td>13950</td>\n",
       "    </tr>\n",
       "    <tr>\n",
       "      <th>4</th>\n",
       "      <td>2</td>\n",
       "      <td>164</td>\n",
       "      <td>audi</td>\n",
       "      <td>gas</td>\n",
       "      <td>std</td>\n",
       "      <td>four</td>\n",
       "      <td>sedan</td>\n",
       "      <td>4wd</td>\n",
       "      <td>front</td>\n",
       "      <td>99.4</td>\n",
       "      <td>176.6</td>\n",
       "      <td>66.4</td>\n",
       "      <td>54.3</td>\n",
       "      <td>2824</td>\n",
       "      <td>ohc</td>\n",
       "      <td>five</td>\n",
       "      <td>136</td>\n",
       "      <td>mpfi</td>\n",
       "      <td>3.19</td>\n",
       "      <td>3.40</td>\n",
       "      <td>8.0</td>\n",
       "      <td>115</td>\n",
       "      <td>5500</td>\n",
       "      <td>18</td>\n",
       "      <td>22</td>\n",
       "      <td>17450</td>\n",
       "    </tr>\n",
       "  </tbody>\n",
       "</table>\n",
       "</div>"
      ],
      "text/plain": [
       "   symboling normalized-losses         make fuel-type aspiration num-of-doors  \\\n",
       "0          3                 ?  alfa-romero       gas        std          two   \n",
       "1          3                 ?  alfa-romero       gas        std          two   \n",
       "2          1                 ?  alfa-romero       gas        std          two   \n",
       "3          2               164         audi       gas        std         four   \n",
       "4          2               164         audi       gas        std         four   \n",
       "\n",
       "    body-style drive-wheels engine-location  wheel-base  length  width  \\\n",
       "0  convertible          rwd           front        88.6   168.8   64.1   \n",
       "1  convertible          rwd           front        88.6   168.8   64.1   \n",
       "2    hatchback          rwd           front        94.5   171.2   65.5   \n",
       "3        sedan          fwd           front        99.8   176.6   66.2   \n",
       "4        sedan          4wd           front        99.4   176.6   66.4   \n",
       "\n",
       "   height  curb-weight engine-type num-of-cylinders  engine-size fuel-system  \\\n",
       "0    48.8         2548        dohc             four          130        mpfi   \n",
       "1    48.8         2548        dohc             four          130        mpfi   \n",
       "2    52.4         2823        ohcv              six          152        mpfi   \n",
       "3    54.3         2337         ohc             four          109        mpfi   \n",
       "4    54.3         2824         ohc             five          136        mpfi   \n",
       "\n",
       "   bore stroke  compression-rate horsepower peak-rpm  city-mpg  highway-mpg  \\\n",
       "0  3.47   2.68               9.0        111     5000        21           27   \n",
       "1  3.47   2.68               9.0        111     5000        21           27   \n",
       "2  2.68   3.47               9.0        154     5000        19           26   \n",
       "3  3.19   3.40              10.0        102     5500        24           30   \n",
       "4  3.19   3.40               8.0        115     5500        18           22   \n",
       "\n",
       "   price  \n",
       "0  13495  \n",
       "1  16500  \n",
       "2  16500  \n",
       "3  13950  \n",
       "4  17450  "
      ]
     },
     "execution_count": 2,
     "metadata": {},
     "output_type": "execute_result"
    }
   ],
   "source": [
    "#column names don't match the ones in the dataset documentation. So, we need to match\n",
    "cols = ['symboling', 'normalized-losses', 'make', 'fuel-type', 'aspiration', 'num-of-doors', 'body-style', \n",
    "        'drive-wheels', 'engine-location', 'wheel-base', 'length', 'width', 'height', 'curb-weight', 'engine-type', \n",
    "        'num-of-cylinders', 'engine-size', 'fuel-system', 'bore', 'stroke', 'compression-rate', 'horsepower', 'peak-rpm', 'city-mpg', 'highway-mpg', 'price']\n",
    "cars = pd.read_csv(\"imports-85.data\", names=cols)\n",
    "cars.head(5)"
   ]
  },
  {
   "cell_type": "markdown",
   "metadata": {},
   "source": [
    "We usually can't have any missing values if we want to use them for predictive modeling. Based on the data set preview from the last step, we can tell that the normalized-losses column contains missing values represented using \"?\". Let's replace these values and look for the presence of missing values in other numeric columns. Let's also rescale the values in the numeric columns so they all range from 0 to 1."
   ]
  },
  {
   "cell_type": "code",
   "execution_count": 3,
   "metadata": {
    "collapsed": false
   },
   "outputs": [
    {
     "data": {
      "text/html": [
       "<div>\n",
       "<style scoped>\n",
       "    .dataframe tbody tr th:only-of-type {\n",
       "        vertical-align: middle;\n",
       "    }\n",
       "\n",
       "    .dataframe tbody tr th {\n",
       "        vertical-align: top;\n",
       "    }\n",
       "\n",
       "    .dataframe thead th {\n",
       "        text-align: right;\n",
       "    }\n",
       "</style>\n",
       "<table border=\"1\" class=\"dataframe\">\n",
       "  <thead>\n",
       "    <tr style=\"text-align: right;\">\n",
       "      <th></th>\n",
       "      <th>symboling</th>\n",
       "      <th>normalized-losses</th>\n",
       "      <th>make</th>\n",
       "      <th>fuel-type</th>\n",
       "      <th>aspiration</th>\n",
       "      <th>num-of-doors</th>\n",
       "      <th>body-style</th>\n",
       "      <th>drive-wheels</th>\n",
       "      <th>engine-location</th>\n",
       "      <th>wheel-base</th>\n",
       "      <th>length</th>\n",
       "      <th>width</th>\n",
       "      <th>height</th>\n",
       "      <th>curb-weight</th>\n",
       "      <th>engine-type</th>\n",
       "      <th>num-of-cylinders</th>\n",
       "      <th>engine-size</th>\n",
       "      <th>fuel-system</th>\n",
       "      <th>bore</th>\n",
       "      <th>stroke</th>\n",
       "      <th>compression-rate</th>\n",
       "      <th>horsepower</th>\n",
       "      <th>peak-rpm</th>\n",
       "      <th>city-mpg</th>\n",
       "      <th>highway-mpg</th>\n",
       "      <th>price</th>\n",
       "    </tr>\n",
       "  </thead>\n",
       "  <tbody>\n",
       "    <tr>\n",
       "      <th>0</th>\n",
       "      <td>3</td>\n",
       "      <td>NaN</td>\n",
       "      <td>alfa-romero</td>\n",
       "      <td>gas</td>\n",
       "      <td>std</td>\n",
       "      <td>two</td>\n",
       "      <td>convertible</td>\n",
       "      <td>rwd</td>\n",
       "      <td>front</td>\n",
       "      <td>88.6</td>\n",
       "      <td>168.8</td>\n",
       "      <td>64.1</td>\n",
       "      <td>48.8</td>\n",
       "      <td>2548</td>\n",
       "      <td>dohc</td>\n",
       "      <td>four</td>\n",
       "      <td>130</td>\n",
       "      <td>mpfi</td>\n",
       "      <td>3.47</td>\n",
       "      <td>2.68</td>\n",
       "      <td>9.0</td>\n",
       "      <td>111</td>\n",
       "      <td>5000</td>\n",
       "      <td>21</td>\n",
       "      <td>27</td>\n",
       "      <td>13495</td>\n",
       "    </tr>\n",
       "    <tr>\n",
       "      <th>1</th>\n",
       "      <td>3</td>\n",
       "      <td>NaN</td>\n",
       "      <td>alfa-romero</td>\n",
       "      <td>gas</td>\n",
       "      <td>std</td>\n",
       "      <td>two</td>\n",
       "      <td>convertible</td>\n",
       "      <td>rwd</td>\n",
       "      <td>front</td>\n",
       "      <td>88.6</td>\n",
       "      <td>168.8</td>\n",
       "      <td>64.1</td>\n",
       "      <td>48.8</td>\n",
       "      <td>2548</td>\n",
       "      <td>dohc</td>\n",
       "      <td>four</td>\n",
       "      <td>130</td>\n",
       "      <td>mpfi</td>\n",
       "      <td>3.47</td>\n",
       "      <td>2.68</td>\n",
       "      <td>9.0</td>\n",
       "      <td>111</td>\n",
       "      <td>5000</td>\n",
       "      <td>21</td>\n",
       "      <td>27</td>\n",
       "      <td>16500</td>\n",
       "    </tr>\n",
       "    <tr>\n",
       "      <th>2</th>\n",
       "      <td>1</td>\n",
       "      <td>NaN</td>\n",
       "      <td>alfa-romero</td>\n",
       "      <td>gas</td>\n",
       "      <td>std</td>\n",
       "      <td>two</td>\n",
       "      <td>hatchback</td>\n",
       "      <td>rwd</td>\n",
       "      <td>front</td>\n",
       "      <td>94.5</td>\n",
       "      <td>171.2</td>\n",
       "      <td>65.5</td>\n",
       "      <td>52.4</td>\n",
       "      <td>2823</td>\n",
       "      <td>ohcv</td>\n",
       "      <td>six</td>\n",
       "      <td>152</td>\n",
       "      <td>mpfi</td>\n",
       "      <td>2.68</td>\n",
       "      <td>3.47</td>\n",
       "      <td>9.0</td>\n",
       "      <td>154</td>\n",
       "      <td>5000</td>\n",
       "      <td>19</td>\n",
       "      <td>26</td>\n",
       "      <td>16500</td>\n",
       "    </tr>\n",
       "    <tr>\n",
       "      <th>3</th>\n",
       "      <td>2</td>\n",
       "      <td>164</td>\n",
       "      <td>audi</td>\n",
       "      <td>gas</td>\n",
       "      <td>std</td>\n",
       "      <td>four</td>\n",
       "      <td>sedan</td>\n",
       "      <td>fwd</td>\n",
       "      <td>front</td>\n",
       "      <td>99.8</td>\n",
       "      <td>176.6</td>\n",
       "      <td>66.2</td>\n",
       "      <td>54.3</td>\n",
       "      <td>2337</td>\n",
       "      <td>ohc</td>\n",
       "      <td>four</td>\n",
       "      <td>109</td>\n",
       "      <td>mpfi</td>\n",
       "      <td>3.19</td>\n",
       "      <td>3.40</td>\n",
       "      <td>10.0</td>\n",
       "      <td>102</td>\n",
       "      <td>5500</td>\n",
       "      <td>24</td>\n",
       "      <td>30</td>\n",
       "      <td>13950</td>\n",
       "    </tr>\n",
       "    <tr>\n",
       "      <th>4</th>\n",
       "      <td>2</td>\n",
       "      <td>164</td>\n",
       "      <td>audi</td>\n",
       "      <td>gas</td>\n",
       "      <td>std</td>\n",
       "      <td>four</td>\n",
       "      <td>sedan</td>\n",
       "      <td>4wd</td>\n",
       "      <td>front</td>\n",
       "      <td>99.4</td>\n",
       "      <td>176.6</td>\n",
       "      <td>66.4</td>\n",
       "      <td>54.3</td>\n",
       "      <td>2824</td>\n",
       "      <td>ohc</td>\n",
       "      <td>five</td>\n",
       "      <td>136</td>\n",
       "      <td>mpfi</td>\n",
       "      <td>3.19</td>\n",
       "      <td>3.40</td>\n",
       "      <td>8.0</td>\n",
       "      <td>115</td>\n",
       "      <td>5500</td>\n",
       "      <td>18</td>\n",
       "      <td>22</td>\n",
       "      <td>17450</td>\n",
       "    </tr>\n",
       "  </tbody>\n",
       "</table>\n",
       "</div>"
      ],
      "text/plain": [
       "   symboling normalized-losses         make fuel-type aspiration num-of-doors  \\\n",
       "0          3               NaN  alfa-romero       gas        std          two   \n",
       "1          3               NaN  alfa-romero       gas        std          two   \n",
       "2          1               NaN  alfa-romero       gas        std          two   \n",
       "3          2               164         audi       gas        std         four   \n",
       "4          2               164         audi       gas        std         four   \n",
       "\n",
       "    body-style drive-wheels engine-location  wheel-base  length  width  \\\n",
       "0  convertible          rwd           front        88.6   168.8   64.1   \n",
       "1  convertible          rwd           front        88.6   168.8   64.1   \n",
       "2    hatchback          rwd           front        94.5   171.2   65.5   \n",
       "3        sedan          fwd           front        99.8   176.6   66.2   \n",
       "4        sedan          4wd           front        99.4   176.6   66.4   \n",
       "\n",
       "   height  curb-weight engine-type num-of-cylinders  engine-size fuel-system  \\\n",
       "0    48.8         2548        dohc             four          130        mpfi   \n",
       "1    48.8         2548        dohc             four          130        mpfi   \n",
       "2    52.4         2823        ohcv              six          152        mpfi   \n",
       "3    54.3         2337         ohc             four          109        mpfi   \n",
       "4    54.3         2824         ohc             five          136        mpfi   \n",
       "\n",
       "   bore stroke  compression-rate horsepower peak-rpm  city-mpg  highway-mpg  \\\n",
       "0  3.47   2.68               9.0        111     5000        21           27   \n",
       "1  3.47   2.68               9.0        111     5000        21           27   \n",
       "2  2.68   3.47               9.0        154     5000        19           26   \n",
       "3  3.19   3.40              10.0        102     5500        24           30   \n",
       "4  3.19   3.40               8.0        115     5500        18           22   \n",
       "\n",
       "   price  \n",
       "0  13495  \n",
       "1  16500  \n",
       "2  16500  \n",
       "3  13950  \n",
       "4  17450  "
      ]
     },
     "execution_count": 3,
     "metadata": {},
     "output_type": "execute_result"
    }
   ],
   "source": [
    "cars[\"normalized-losses\"]=cars[\"normalized-losses\"].replace(\"?\",np.nan)\n",
    "cars.head(5)"
   ]
  },
  {
   "cell_type": "code",
   "execution_count": 4,
   "metadata": {
    "collapsed": true
   },
   "outputs": [],
   "source": [
    "# Select only the columns with continuous values from - https://archive.ics.uci.edu/ml/machine-learning-databases/autos/imports-85.names\n",
    "continuous_values_cols = ['normalized-losses', 'wheel-base', 'length', 'width', 'height', 'curb-weight', 'engine-size', 'bore', 'stroke', 'compression-rate', 'horsepower', 'peak-rpm', 'city-mpg', 'highway-mpg', 'price']\n",
    "numeric_cars = cars[continuous_values_cols].copy()"
   ]
  },
  {
   "cell_type": "code",
   "execution_count": 5,
   "metadata": {
    "collapsed": false
   },
   "outputs": [
    {
     "data": {
      "text/html": [
       "<div>\n",
       "<style scoped>\n",
       "    .dataframe tbody tr th:only-of-type {\n",
       "        vertical-align: middle;\n",
       "    }\n",
       "\n",
       "    .dataframe tbody tr th {\n",
       "        vertical-align: top;\n",
       "    }\n",
       "\n",
       "    .dataframe thead th {\n",
       "        text-align: right;\n",
       "    }\n",
       "</style>\n",
       "<table border=\"1\" class=\"dataframe\">\n",
       "  <thead>\n",
       "    <tr style=\"text-align: right;\">\n",
       "      <th></th>\n",
       "      <th>normalized-losses</th>\n",
       "      <th>wheel-base</th>\n",
       "      <th>length</th>\n",
       "      <th>width</th>\n",
       "      <th>height</th>\n",
       "      <th>curb-weight</th>\n",
       "      <th>engine-size</th>\n",
       "      <th>bore</th>\n",
       "      <th>stroke</th>\n",
       "      <th>compression-rate</th>\n",
       "      <th>horsepower</th>\n",
       "      <th>peak-rpm</th>\n",
       "      <th>city-mpg</th>\n",
       "      <th>highway-mpg</th>\n",
       "      <th>price</th>\n",
       "    </tr>\n",
       "  </thead>\n",
       "  <tbody>\n",
       "    <tr>\n",
       "      <th>0</th>\n",
       "      <td>NaN</td>\n",
       "      <td>88.6</td>\n",
       "      <td>168.8</td>\n",
       "      <td>64.1</td>\n",
       "      <td>48.8</td>\n",
       "      <td>2548</td>\n",
       "      <td>130</td>\n",
       "      <td>3.47</td>\n",
       "      <td>2.68</td>\n",
       "      <td>9.0</td>\n",
       "      <td>111</td>\n",
       "      <td>5000</td>\n",
       "      <td>21</td>\n",
       "      <td>27</td>\n",
       "      <td>13495</td>\n",
       "    </tr>\n",
       "    <tr>\n",
       "      <th>1</th>\n",
       "      <td>NaN</td>\n",
       "      <td>88.6</td>\n",
       "      <td>168.8</td>\n",
       "      <td>64.1</td>\n",
       "      <td>48.8</td>\n",
       "      <td>2548</td>\n",
       "      <td>130</td>\n",
       "      <td>3.47</td>\n",
       "      <td>2.68</td>\n",
       "      <td>9.0</td>\n",
       "      <td>111</td>\n",
       "      <td>5000</td>\n",
       "      <td>21</td>\n",
       "      <td>27</td>\n",
       "      <td>16500</td>\n",
       "    </tr>\n",
       "    <tr>\n",
       "      <th>2</th>\n",
       "      <td>NaN</td>\n",
       "      <td>94.5</td>\n",
       "      <td>171.2</td>\n",
       "      <td>65.5</td>\n",
       "      <td>52.4</td>\n",
       "      <td>2823</td>\n",
       "      <td>152</td>\n",
       "      <td>2.68</td>\n",
       "      <td>3.47</td>\n",
       "      <td>9.0</td>\n",
       "      <td>154</td>\n",
       "      <td>5000</td>\n",
       "      <td>19</td>\n",
       "      <td>26</td>\n",
       "      <td>16500</td>\n",
       "    </tr>\n",
       "    <tr>\n",
       "      <th>3</th>\n",
       "      <td>164</td>\n",
       "      <td>99.8</td>\n",
       "      <td>176.6</td>\n",
       "      <td>66.2</td>\n",
       "      <td>54.3</td>\n",
       "      <td>2337</td>\n",
       "      <td>109</td>\n",
       "      <td>3.19</td>\n",
       "      <td>3.40</td>\n",
       "      <td>10.0</td>\n",
       "      <td>102</td>\n",
       "      <td>5500</td>\n",
       "      <td>24</td>\n",
       "      <td>30</td>\n",
       "      <td>13950</td>\n",
       "    </tr>\n",
       "    <tr>\n",
       "      <th>4</th>\n",
       "      <td>164</td>\n",
       "      <td>99.4</td>\n",
       "      <td>176.6</td>\n",
       "      <td>66.4</td>\n",
       "      <td>54.3</td>\n",
       "      <td>2824</td>\n",
       "      <td>136</td>\n",
       "      <td>3.19</td>\n",
       "      <td>3.40</td>\n",
       "      <td>8.0</td>\n",
       "      <td>115</td>\n",
       "      <td>5500</td>\n",
       "      <td>18</td>\n",
       "      <td>22</td>\n",
       "      <td>17450</td>\n",
       "    </tr>\n",
       "  </tbody>\n",
       "</table>\n",
       "</div>"
      ],
      "text/plain": [
       "  normalized-losses  wheel-base  length  width  height  curb-weight  \\\n",
       "0               NaN        88.6   168.8   64.1    48.8         2548   \n",
       "1               NaN        88.6   168.8   64.1    48.8         2548   \n",
       "2               NaN        94.5   171.2   65.5    52.4         2823   \n",
       "3               164        99.8   176.6   66.2    54.3         2337   \n",
       "4               164        99.4   176.6   66.4    54.3         2824   \n",
       "\n",
       "   engine-size  bore stroke  compression-rate horsepower peak-rpm  city-mpg  \\\n",
       "0          130  3.47   2.68               9.0        111     5000        21   \n",
       "1          130  3.47   2.68               9.0        111     5000        21   \n",
       "2          152  2.68   3.47               9.0        154     5000        19   \n",
       "3          109  3.19   3.40              10.0        102     5500        24   \n",
       "4          136  3.19   3.40               8.0        115     5500        18   \n",
       "\n",
       "   highway-mpg  price  \n",
       "0           27  13495  \n",
       "1           27  16500  \n",
       "2           26  16500  \n",
       "3           30  13950  \n",
       "4           22  17450  "
      ]
     },
     "execution_count": 5,
     "metadata": {},
     "output_type": "execute_result"
    }
   ],
   "source": [
    "numeric_cars.head(5)"
   ]
  },
  {
   "cell_type": "code",
   "execution_count": 6,
   "metadata": {
    "collapsed": false
   },
   "outputs": [
    {
     "name": "stdout",
     "output_type": "stream",
     "text": [
      "<class 'pandas.core.frame.DataFrame'>\n",
      "RangeIndex: 205 entries, 0 to 204\n",
      "Data columns (total 15 columns):\n",
      "normalized-losses    164 non-null object\n",
      "wheel-base           205 non-null float64\n",
      "length               205 non-null float64\n",
      "width                205 non-null float64\n",
      "height               205 non-null float64\n",
      "curb-weight          205 non-null int64\n",
      "engine-size          205 non-null int64\n",
      "bore                 205 non-null object\n",
      "stroke               205 non-null object\n",
      "compression-rate     205 non-null float64\n",
      "horsepower           205 non-null object\n",
      "peak-rpm             205 non-null object\n",
      "city-mpg             205 non-null int64\n",
      "highway-mpg          205 non-null int64\n",
      "price                205 non-null object\n",
      "dtypes: float64(5), int64(4), object(6)\n",
      "memory usage: 24.1+ KB\n"
     ]
    }
   ],
   "source": [
    "numeric_cars.info()"
   ]
  },
  {
   "cell_type": "markdown",
   "metadata": {},
   "source": [
    "## Data Cleaning\n",
    "Now we choose numeric columns which we will work on our project. Let's start cleaning the data."
   ]
  },
  {
   "cell_type": "code",
   "execution_count": 7,
   "metadata": {
    "collapsed": true
   },
   "outputs": [],
   "source": [
    "#As we did for normalized-losses column, we replace all ? for np.nan for the dataset.\n",
    "numeric_cars = numeric_cars.replace('?', np.nan)"
   ]
  },
  {
   "cell_type": "code",
   "execution_count": 8,
   "metadata": {
    "collapsed": false
   },
   "outputs": [
    {
     "data": {
      "text/plain": [
       "normalized-losses    41\n",
       "wheel-base            0\n",
       "length                0\n",
       "width                 0\n",
       "height                0\n",
       "curb-weight           0\n",
       "engine-size           0\n",
       "bore                  4\n",
       "stroke                4\n",
       "compression-rate      0\n",
       "horsepower            2\n",
       "peak-rpm              2\n",
       "city-mpg              0\n",
       "highway-mpg           0\n",
       "price                 4\n",
       "dtype: int64"
      ]
     },
     "execution_count": 8,
     "metadata": {},
     "output_type": "execute_result"
    }
   ],
   "source": [
    "#Change the datatype of all columns to float and see missing values\n",
    "numeric_cars = numeric_cars.astype(float)\n",
    "numeric_cars.isnull().sum()"
   ]
  },
  {
   "cell_type": "markdown",
   "metadata": {},
   "source": [
    "Since there is 4 missing value in price which we want to predict, lets remove all rows with missing price values."
   ]
  },
  {
   "cell_type": "code",
   "execution_count": 9,
   "metadata": {
    "collapsed": false
   },
   "outputs": [
    {
     "data": {
      "text/plain": [
       "normalized-losses    37\n",
       "wheel-base            0\n",
       "length                0\n",
       "width                 0\n",
       "height                0\n",
       "curb-weight           0\n",
       "engine-size           0\n",
       "bore                  4\n",
       "stroke                4\n",
       "compression-rate      0\n",
       "horsepower            2\n",
       "peak-rpm              2\n",
       "city-mpg              0\n",
       "highway-mpg           0\n",
       "price                 0\n",
       "dtype: int64"
      ]
     },
     "execution_count": 9,
     "metadata": {},
     "output_type": "execute_result"
    }
   ],
   "source": [
    "numeric_cars=numeric_cars.dropna(subset=[\"price\"])\n",
    "numeric_cars.isnull().sum()"
   ]
  },
  {
   "cell_type": "markdown",
   "metadata": {},
   "source": [
    "For other missing values, we will fill it with mean values."
   ]
  },
  {
   "cell_type": "code",
   "execution_count": 10,
   "metadata": {
    "collapsed": true
   },
   "outputs": [],
   "source": [
    "# Replace missing values in other columns using column means.\n",
    "numeric_cars=numeric_cars.fillna(numeric_cars.mean())"
   ]
  },
  {
   "cell_type": "code",
   "execution_count": 11,
   "metadata": {
    "collapsed": false
   },
   "outputs": [
    {
     "data": {
      "text/plain": [
       "normalized-losses    0\n",
       "wheel-base           0\n",
       "length               0\n",
       "width                0\n",
       "height               0\n",
       "curb-weight          0\n",
       "engine-size          0\n",
       "bore                 0\n",
       "stroke               0\n",
       "compression-rate     0\n",
       "horsepower           0\n",
       "peak-rpm             0\n",
       "city-mpg             0\n",
       "highway-mpg          0\n",
       "price                0\n",
       "dtype: int64"
      ]
     },
     "execution_count": 11,
     "metadata": {},
     "output_type": "execute_result"
    }
   ],
   "source": [
    "numeric_cars.isnull().sum()"
   ]
  },
  {
   "cell_type": "markdown",
   "metadata": {},
   "source": [
    "Now, all columns have their values filled. We will normalize all values in dataset through min-max normalization so value range from 0 to 1."
   ]
  },
  {
   "cell_type": "code",
   "execution_count": 12,
   "metadata": {
    "collapsed": true
   },
   "outputs": [],
   "source": [
    "#Separate the price column first\n",
    "price_list = numeric_cars[\"price\"]\n",
    "numeric_cars = (numeric_cars-numeric_cars.min())/(numeric_cars.max()-numeric_cars.min())\n",
    "#set back the price\n",
    "numeric_cars[\"price\"]= price_list"
   ]
  },
  {
   "cell_type": "code",
   "execution_count": 13,
   "metadata": {
    "collapsed": false
   },
   "outputs": [
    {
     "data": {
      "text/html": [
       "<div>\n",
       "<style scoped>\n",
       "    .dataframe tbody tr th:only-of-type {\n",
       "        vertical-align: middle;\n",
       "    }\n",
       "\n",
       "    .dataframe tbody tr th {\n",
       "        vertical-align: top;\n",
       "    }\n",
       "\n",
       "    .dataframe thead th {\n",
       "        text-align: right;\n",
       "    }\n",
       "</style>\n",
       "<table border=\"1\" class=\"dataframe\">\n",
       "  <thead>\n",
       "    <tr style=\"text-align: right;\">\n",
       "      <th></th>\n",
       "      <th>normalized-losses</th>\n",
       "      <th>wheel-base</th>\n",
       "      <th>length</th>\n",
       "      <th>width</th>\n",
       "      <th>height</th>\n",
       "      <th>curb-weight</th>\n",
       "      <th>engine-size</th>\n",
       "      <th>bore</th>\n",
       "      <th>stroke</th>\n",
       "      <th>compression-rate</th>\n",
       "      <th>horsepower</th>\n",
       "      <th>peak-rpm</th>\n",
       "      <th>city-mpg</th>\n",
       "      <th>highway-mpg</th>\n",
       "      <th>price</th>\n",
       "    </tr>\n",
       "  </thead>\n",
       "  <tbody>\n",
       "    <tr>\n",
       "      <th>0</th>\n",
       "      <td>0.298429</td>\n",
       "      <td>0.058309</td>\n",
       "      <td>0.413433</td>\n",
       "      <td>0.324786</td>\n",
       "      <td>0.083333</td>\n",
       "      <td>0.411171</td>\n",
       "      <td>0.260377</td>\n",
       "      <td>0.664286</td>\n",
       "      <td>0.290476</td>\n",
       "      <td>0.1250</td>\n",
       "      <td>0.294393</td>\n",
       "      <td>0.346939</td>\n",
       "      <td>0.222222</td>\n",
       "      <td>0.289474</td>\n",
       "      <td>13495.0</td>\n",
       "    </tr>\n",
       "    <tr>\n",
       "      <th>1</th>\n",
       "      <td>0.298429</td>\n",
       "      <td>0.058309</td>\n",
       "      <td>0.413433</td>\n",
       "      <td>0.324786</td>\n",
       "      <td>0.083333</td>\n",
       "      <td>0.411171</td>\n",
       "      <td>0.260377</td>\n",
       "      <td>0.664286</td>\n",
       "      <td>0.290476</td>\n",
       "      <td>0.1250</td>\n",
       "      <td>0.294393</td>\n",
       "      <td>0.346939</td>\n",
       "      <td>0.222222</td>\n",
       "      <td>0.289474</td>\n",
       "      <td>16500.0</td>\n",
       "    </tr>\n",
       "    <tr>\n",
       "      <th>2</th>\n",
       "      <td>0.298429</td>\n",
       "      <td>0.230321</td>\n",
       "      <td>0.449254</td>\n",
       "      <td>0.444444</td>\n",
       "      <td>0.383333</td>\n",
       "      <td>0.517843</td>\n",
       "      <td>0.343396</td>\n",
       "      <td>0.100000</td>\n",
       "      <td>0.666667</td>\n",
       "      <td>0.1250</td>\n",
       "      <td>0.495327</td>\n",
       "      <td>0.346939</td>\n",
       "      <td>0.166667</td>\n",
       "      <td>0.263158</td>\n",
       "      <td>16500.0</td>\n",
       "    </tr>\n",
       "    <tr>\n",
       "      <th>3</th>\n",
       "      <td>0.518325</td>\n",
       "      <td>0.384840</td>\n",
       "      <td>0.529851</td>\n",
       "      <td>0.504274</td>\n",
       "      <td>0.541667</td>\n",
       "      <td>0.329325</td>\n",
       "      <td>0.181132</td>\n",
       "      <td>0.464286</td>\n",
       "      <td>0.633333</td>\n",
       "      <td>0.1875</td>\n",
       "      <td>0.252336</td>\n",
       "      <td>0.551020</td>\n",
       "      <td>0.305556</td>\n",
       "      <td>0.368421</td>\n",
       "      <td>13950.0</td>\n",
       "    </tr>\n",
       "    <tr>\n",
       "      <th>4</th>\n",
       "      <td>0.518325</td>\n",
       "      <td>0.373178</td>\n",
       "      <td>0.529851</td>\n",
       "      <td>0.521368</td>\n",
       "      <td>0.541667</td>\n",
       "      <td>0.518231</td>\n",
       "      <td>0.283019</td>\n",
       "      <td>0.464286</td>\n",
       "      <td>0.633333</td>\n",
       "      <td>0.0625</td>\n",
       "      <td>0.313084</td>\n",
       "      <td>0.551020</td>\n",
       "      <td>0.138889</td>\n",
       "      <td>0.157895</td>\n",
       "      <td>17450.0</td>\n",
       "    </tr>\n",
       "  </tbody>\n",
       "</table>\n",
       "</div>"
      ],
      "text/plain": [
       "   normalized-losses  wheel-base    length     width    height  curb-weight  \\\n",
       "0           0.298429    0.058309  0.413433  0.324786  0.083333     0.411171   \n",
       "1           0.298429    0.058309  0.413433  0.324786  0.083333     0.411171   \n",
       "2           0.298429    0.230321  0.449254  0.444444  0.383333     0.517843   \n",
       "3           0.518325    0.384840  0.529851  0.504274  0.541667     0.329325   \n",
       "4           0.518325    0.373178  0.529851  0.521368  0.541667     0.518231   \n",
       "\n",
       "   engine-size      bore    stroke  compression-rate  horsepower  peak-rpm  \\\n",
       "0     0.260377  0.664286  0.290476            0.1250    0.294393  0.346939   \n",
       "1     0.260377  0.664286  0.290476            0.1250    0.294393  0.346939   \n",
       "2     0.343396  0.100000  0.666667            0.1250    0.495327  0.346939   \n",
       "3     0.181132  0.464286  0.633333            0.1875    0.252336  0.551020   \n",
       "4     0.283019  0.464286  0.633333            0.0625    0.313084  0.551020   \n",
       "\n",
       "   city-mpg  highway-mpg    price  \n",
       "0  0.222222     0.289474  13495.0  \n",
       "1  0.222222     0.289474  16500.0  \n",
       "2  0.166667     0.263158  16500.0  \n",
       "3  0.305556     0.368421  13950.0  \n",
       "4  0.138889     0.157895  17450.0  "
      ]
     },
     "execution_count": 13,
     "metadata": {},
     "output_type": "execute_result"
    }
   ],
   "source": [
    "numeric_cars.head()"
   ]
  },
  {
   "cell_type": "markdown",
   "metadata": {},
   "source": [
    "## Univariate Model\n",
    "Now we got all data normalized except for price column. And we also cleaned the data so that there is no missing value that will cause error in predictive modeling. We will create function that encapsulates the training and simple validation process."
   ]
  },
  {
   "cell_type": "code",
   "execution_count": 14,
   "metadata": {
    "collapsed": false
   },
   "outputs": [
    {
     "data": {
      "text/plain": [
       "engine-size          3238.462830\n",
       "horsepower           4037.037713\n",
       "curb-weight          4401.118255\n",
       "highway-mpg          4630.026799\n",
       "width                4704.482590\n",
       "city-mpg             4766.422505\n",
       "length               5427.200961\n",
       "wheel-base           5461.553998\n",
       "compression-rate     6610.812153\n",
       "bore                 6780.627785\n",
       "normalized-losses    7330.197653\n",
       "peak-rpm             7697.459696\n",
       "stroke               8006.529545\n",
       "height               8144.441043\n",
       "dtype: float64"
      ]
     },
     "execution_count": 14,
     "metadata": {},
     "output_type": "execute_result"
    }
   ],
   "source": [
    "from sklearn.neighbors import KNeighborsRegressor\n",
    "from sklearn.metrics import mean_squared_error\n",
    "\n",
    "def knn_train_test(training_col, target_col, df):\n",
    "    knn = KNeighborsRegressor()\n",
    "    np.random.seed(1)\n",
    "    \n",
    "    # Randomize order of rows in data frame\n",
    "    shuffle_index = np.random.permutation(df.index)\n",
    "    rand_df = df.reindex(shuffle_index)\n",
    "    \n",
    "    # Divide number of rows in half and round.\n",
    "    last_train_row = int(len(rand_df)/2)\n",
    "    \n",
    "    # Select the first half and set as training set.\n",
    "    # Select the second half and set as test set.\n",
    "    train_df=rand_df[:last_train_row]\n",
    "    test_df=rand_df[last_train_row:]\n",
    "    \n",
    "    # Fit a KNN model using default k value.\n",
    "    knn.fit(train_df[[training_col]], train_df[target_col])\n",
    "    \n",
    "    # Make predictions using model.\n",
    "    prediction = knn.predict(test_df[[training_col]])\n",
    "    \n",
    "    # Calculate and return RMSE.\n",
    "    mse = mean_squared_error(test_df[target_col], prediction)\n",
    "    rmse = np.sqrt(mse)\n",
    "    \n",
    "    return rmse\n",
    "\n",
    "rmse_results = {}\n",
    "\n",
    "training_col = numeric_cars.columns.drop('price')\n",
    "\n",
    "# For each column (minus `price`), train a model, return RMSE value\n",
    "# and add to the dictionary `rmse_results`.\n",
    "for col in training_col:\n",
    "    rmse_val = knn_train_test(col, 'price', numeric_cars)\n",
    "    rmse_results[col] = rmse_val\n",
    "    \n",
    "# Create a Series object from the dictionary so \n",
    "# we can easily view the results, sort, etc\n",
    "rmse_results_series=pd.Series(rmse_results)\n",
    "rmse_results_series.sort_values()"
   ]
  },
  {
   "cell_type": "markdown",
   "metadata": {},
   "source": [
    "engine-size column performed the best and having the loweset rmse value using default k value which is 5. For our next step, we will modify the function above to take different k values and see the difference."
   ]
  },
  {
   "cell_type": "code",
   "execution_count": 15,
   "metadata": {
    "collapsed": false
   },
   "outputs": [
    {
     "data": {
      "text/plain": [
       "{'bore': {1: 8602.58848450066,\n",
       "  3: 6984.239489480916,\n",
       "  5: 6780.627784685976,\n",
       "  7: 6878.097965921532,\n",
       "  9: 6866.808502038413},\n",
       " 'city-mpg': {1: 5901.143574354764,\n",
       "  3: 4646.746408727155,\n",
       "  5: 4766.422505090134,\n",
       "  7: 5232.523034167316,\n",
       "  9: 5465.209492527533},\n",
       " 'compression-rate': {1: 8087.205346523092,\n",
       "  3: 7375.063685578359,\n",
       "  5: 6610.812153159129,\n",
       "  7: 6732.801282941515,\n",
       "  9: 7024.485525463435},\n",
       " 'curb-weight': {1: 5264.290230758878,\n",
       "  3: 5022.318011757233,\n",
       "  5: 4401.118254793124,\n",
       "  7: 4330.608104418053,\n",
       "  9: 4632.044474454401},\n",
       " 'engine-size': {1: 3258.4861059962027,\n",
       "  3: 2840.562805643501,\n",
       "  5: 3238.4628296477176,\n",
       "  7: 3563.086774256415,\n",
       "  9: 3831.8244149840766},\n",
       " 'height': {1: 8904.04645636071,\n",
       "  3: 8277.609643045525,\n",
       "  5: 8144.441042663747,\n",
       "  7: 7679.598124393773,\n",
       "  9: 7811.03606291223},\n",
       " 'highway-mpg': {1: 6025.594966720739,\n",
       "  3: 4617.305019788554,\n",
       "  5: 4630.026798588056,\n",
       "  7: 4796.061440186946,\n",
       "  9: 5278.358056953987},\n",
       " 'horsepower': {1: 4170.054848037801,\n",
       "  3: 4020.8492630885394,\n",
       "  5: 4037.0377131537603,\n",
       "  7: 4353.811860277134,\n",
       "  9: 4515.135617419103},\n",
       " 'length': {1: 4628.45550121557,\n",
       "  3: 5129.8358210721635,\n",
       "  5: 5427.2009608367125,\n",
       "  7: 5313.427720847974,\n",
       "  9: 5383.054514833446},\n",
       " 'normalized-losses': {1: 7846.750605148984,\n",
       "  3: 7500.5698123109905,\n",
       "  5: 7330.197653434445,\n",
       "  7: 7756.421586234123,\n",
       "  9: 7688.096096891432},\n",
       " 'peak-rpm': {1: 9511.480067750124,\n",
       "  3: 8537.550899973421,\n",
       "  5: 7697.4596964334805,\n",
       "  7: 7510.294160083481,\n",
       "  9: 7340.041341263401},\n",
       " 'stroke': {1: 9116.495955406906,\n",
       "  3: 7338.68466990294,\n",
       "  5: 8006.529544647101,\n",
       "  7: 7803.937796804327,\n",
       "  9: 7735.554366079291},\n",
       " 'wheel-base': {1: 4493.734068810494,\n",
       "  3: 5120.161506064513,\n",
       "  5: 5461.553997873057,\n",
       "  7: 5448.1070513823315,\n",
       "  9: 5738.405685192312},\n",
       " 'width': {1: 4559.257297950061,\n",
       "  3: 4606.413692169901,\n",
       "  5: 4704.482589704386,\n",
       "  7: 4571.485046194653,\n",
       "  9: 4652.914172067787}}"
      ]
     },
     "execution_count": 15,
     "metadata": {},
     "output_type": "execute_result"
    }
   ],
   "source": [
    "def knn_train_test(train_col, target_col, df):\n",
    "    np.random.seed(1)\n",
    "        \n",
    "    # Randomize order of rows in data frame.\n",
    "    shuffled_index = np.random.permutation(df.index)\n",
    "    rand_df = df.reindex(shuffled_index)\n",
    "\n",
    "    # Divide number of rows in half and round.\n",
    "    last_train_row = int(len(rand_df) / 2)\n",
    "    \n",
    "    # Select the first half and set as training set.\n",
    "    # Select the second half and set as test set.\n",
    "    train_df = rand_df.iloc[0:last_train_row]\n",
    "    test_df = rand_df.iloc[last_train_row:]\n",
    "    \n",
    "    k_values = [1,3,5,7,9]\n",
    "    k_rmses = {}\n",
    "    \n",
    "    for k in k_values:\n",
    "        # Fit model using k nearest neighbors.\n",
    "        knn = KNeighborsRegressor(n_neighbors=k)\n",
    "        knn.fit(train_df[[train_col]], train_df[target_col])\n",
    "\n",
    "        # Make predictions using model.\n",
    "        predicted_labels = knn.predict(test_df[[train_col]])\n",
    "\n",
    "        # Calculate and return RMSE.\n",
    "        mse = mean_squared_error(test_df[target_col], predicted_labels)\n",
    "        rmse = np.sqrt(mse)\n",
    "        \n",
    "        k_rmses[k] = rmse\n",
    "    return k_rmses\n",
    "\n",
    "k_rmse_results = {}\n",
    "\n",
    "# For each column (minus `price`), train a model, return RMSE value\n",
    "# and add to the dictionary `rmse_results`.\n",
    "train_cols = numeric_cars.columns.drop('price')\n",
    "for col in train_cols:\n",
    "    rmse_val = knn_train_test(col, 'price', numeric_cars)\n",
    "    k_rmse_results[col] = rmse_val\n",
    "\n",
    "k_rmse_results"
   ]
  },
  {
   "cell_type": "code",
   "execution_count": 16,
   "metadata": {
    "collapsed": false
   },
   "outputs": [
    {
     "data": {
      "image/png": "[encoded data removed]",
      "text/plain": [
       "<matplotlib.figure.Figure at 0x7f87039d59b0>"
      ]
     },
     "metadata": {},
     "output_type": "display_data"
    }
   ],
   "source": [
    "import matplotlib.pyplot as plt\n",
    "%matplotlib inline\n",
    "\n",
    "for k,v in k_rmse_results.items():\n",
    "    x = list(v.keys())\n",
    "    y = list(v.values())\n",
    "    \n",
    "    plt.plot(x,y)\n",
    "    plt.xlabel('k value')\n",
    "    plt.ylabel('RMSE')"
   ]
  },
  {
   "cell_type": "markdown",
   "metadata": {},
   "source": [
    "We can see that still engine-size performed the best but it worked better with the k value of 3 instead of default value of 5. Now, we will modify the fuction that can take several columns together."
   ]
  },
  {
   "cell_type": "markdown",
   "metadata": {},
   "source": [
    "## Multivariate Model"
   ]
  },
  {
   "cell_type": "code",
   "execution_count": 17,
   "metadata": {
    "collapsed": false
   },
   "outputs": [
    {
     "name": "stdout",
     "output_type": "stream",
     "text": [
      "engine-size          3346.484586\n",
      "horsepower           4219.377860\n",
      "width                4618.910560\n",
      "curb-weight          4730.075815\n",
      "highway-mpg          5069.469256\n",
      "length               5176.394904\n",
      "city-mpg             5202.409003\n",
      "wheel-base           5252.392462\n",
      "compression-rate     7166.073599\n",
      "bore                 7222.472445\n",
      "normalized-losses    7624.407151\n",
      "stroke               8000.240467\n",
      "peak-rpm             8119.365233\n",
      "height               8163.346266\n",
      "dtype: float64\n"
     ]
    }
   ],
   "source": [
    "# Compute average RMSE across different `k` values for each feature.\n",
    "feature_avg_rmse = {}\n",
    "for k,v in k_rmse_results.items():\n",
    "    avg_rmse = np.mean(list(v.values()))\n",
    "    feature_avg_rmse[k] = avg_rmse\n",
    "series_avg_rmse = pd.Series(feature_avg_rmse)\n",
    "sorted_series_avg_rmse = series_avg_rmse.sort_values()\n",
    "print(sorted_series_avg_rmse)\n",
    "\n",
    "sorted_features = sorted_series_avg_rmse.index"
   ]
  },
  {
   "cell_type": "markdown",
   "metadata": {},
   "source": [
    "Now we got the column index sorted in performance we can use for figuring out performance of multi features."
   ]
  },
  {
   "cell_type": "code",
   "execution_count": 18,
   "metadata": {
    "collapsed": false
   },
   "outputs": [
    {
     "data": {
      "text/plain": [
       "{'2 best features': {5: 2949.8817277180374},\n",
       " '3 best features': {5: 3580.7376651928435},\n",
       " '4 best features': {5: 3487.340917327035},\n",
       " '5 best features': {5: 3410.2170133901805},\n",
       " '6 best features': {5: 3478.510890118539}}"
      ]
     },
     "execution_count": 18,
     "metadata": {},
     "output_type": "execute_result"
    }
   ],
   "source": [
    "def knn_train_test(train_col, target_col, df):\n",
    "    np.random.seed(1)\n",
    "        \n",
    "    # Randomize order of rows in data frame.\n",
    "    shuffled_index = np.random.permutation(df.index)\n",
    "    rand_df = df.reindex(shuffled_index)\n",
    "\n",
    "    # Divide number of rows in half and round.\n",
    "    last_train_row = int(len(rand_df) / 2)\n",
    "    \n",
    "    # Select the first half and set as training set.\n",
    "    # Select the second half and set as test set.\n",
    "    train_df = rand_df.iloc[0:last_train_row]\n",
    "    test_df = rand_df.iloc[last_train_row:]\n",
    "    \n",
    "    k_values = [5]\n",
    "    k_rmses = {}\n",
    "    \n",
    "    for k in k_values:\n",
    "        # Fit model using k nearest neighbors.\n",
    "        knn = KNeighborsRegressor(n_neighbors=k)\n",
    "        knn.fit(train_df[train_col], train_df[target_col])\n",
    "\n",
    "        # Make predictions using model.\n",
    "        predicted_labels = knn.predict(test_df[train_col])\n",
    "\n",
    "        # Calculate and return RMSE.\n",
    "        mse = mean_squared_error(test_df[target_col], predicted_labels)\n",
    "        rmse = np.sqrt(mse)\n",
    "        \n",
    "        k_rmses[k] = rmse\n",
    "    return k_rmses\n",
    "\n",
    "k_rmse_results = {}\n",
    "\n",
    "for nr_best_feats in range(2,7):\n",
    "    k_rmse_results['{} best features'.format(nr_best_feats)] = knn_train_test(sorted_features[:nr_best_feats],'price',numeric_cars)\n",
    "\n",
    "k_rmse_results"
   ]
  },
  {
   "cell_type": "markdown",
   "metadata": {},
   "source": [
    "We can see RMSE value goes up from using 3 features then fluctuate between 3400 and 3500."
   ]
  },
  {
   "cell_type": "markdown",
   "metadata": {},
   "source": [
    "## Hyperparameter Tuning\n",
    "Let's now optimize the model that performed the best in the previous step."
   ]
  },
  {
   "cell_type": "code",
   "execution_count": 19,
   "metadata": {
    "collapsed": false
   },
   "outputs": [
    {
     "data": {
      "text/plain": [
       "{'2 best features': {1: 2783.6204237227344,\n",
       "  2: 2657.7963807419765,\n",
       "  3: 2792.586573031673,\n",
       "  4: 2891.5329686923255,\n",
       "  5: 2949.8817277180374,\n",
       "  6: 3096.402601694776,\n",
       "  7: 3164.681969020496,\n",
       "  8: 3413.228359192009,\n",
       "  9: 3748.6716603306486,\n",
       "  10: 4080.7125057341937,\n",
       "  11: 4215.6372280600335,\n",
       "  12: 4275.421524277872,\n",
       "  13: 4373.901683035496,\n",
       "  14: 4424.285137239815,\n",
       "  15: 4539.505493095937,\n",
       "  16: 4667.307671446768,\n",
       "  17: 4729.605305844226,\n",
       "  18: 4790.556632159094,\n",
       "  19: 4824.3866193292615,\n",
       "  20: 4840.850914693829,\n",
       "  21: 4837.429062000271,\n",
       "  22: 4831.16988267597,\n",
       "  23: 4861.679492959275,\n",
       "  24: 4903.346008862579,\n",
       "  25: 4955.892429427362},\n",
       " '3 best features': {1: 3399.8148100410203,\n",
       "  2: 3497.191103423058,\n",
       "  3: 3333.6966577570593,\n",
       "  4: 3355.8842294742026,\n",
       "  5: 3580.7376651928435,\n",
       "  6: 3732.943016673517,\n",
       "  7: 3639.9439408462786,\n",
       "  8: 3747.4209132113137,\n",
       "  9: 3986.593913133887,\n",
       "  10: 4005.354888715163,\n",
       "  11: 4121.687230061635,\n",
       "  12: 4255.700651624227,\n",
       "  13: 4328.476829895253,\n",
       "  14: 4332.216494947217,\n",
       "  15: 4388.225713011904,\n",
       "  16: 4408.838883583756,\n",
       "  17: 4404.781029718083,\n",
       "  18: 4447.577705091259,\n",
       "  19: 4537.049753345422,\n",
       "  20: 4592.444230865941,\n",
       "  21: 4636.731219491763,\n",
       "  22: 4721.248544133379,\n",
       "  23: 4787.943506313775,\n",
       "  24: 4802.894378990491,\n",
       "  25: 4816.708120139092},\n",
       " '4 best features': {1: 2952.725686581471,\n",
       "  2: 3131.704952720018,\n",
       "  3: 3129.692821910155,\n",
       "  4: 3241.4320776448717,\n",
       "  5: 3487.340917327035,\n",
       "  6: 3637.0381471429987,\n",
       "  7: 3606.195077860286,\n",
       "  8: 3809.9307026308247,\n",
       "  9: 3875.274902378068,\n",
       "  10: 3997.1583055842293,\n",
       "  11: 4162.564050411074,\n",
       "  12: 4289.486490995821,\n",
       "  13: 4368.061602779942,\n",
       "  14: 4416.304772968801,\n",
       "  15: 4434.013914355171,\n",
       "  16: 4441.4634909198785,\n",
       "  17: 4512.996303789127,\n",
       "  18: 4523.575629742228,\n",
       "  19: 4534.834065236792,\n",
       "  20: 4620.211598150367,\n",
       "  21: 4688.356509517293,\n",
       "  22: 4731.46717779913,\n",
       "  23: 4763.535312989311,\n",
       "  24: 4751.601375872476,\n",
       "  25: 4757.099289594177},\n",
       " '5 best features': {1: 2824.7061233282866,\n",
       "  2: 2915.6731645496975,\n",
       "  3: 3012.4204546509704,\n",
       "  4: 3202.8876051367483,\n",
       "  5: 3410.2170133901805,\n",
       "  6: 3618.4509432660384,\n",
       "  7: 3622.6290209234803,\n",
       "  8: 3848.635835654326,\n",
       "  9: 3977.8149139381726,\n",
       "  10: 3994.8132211260104,\n",
       "  11: 4159.843526607947,\n",
       "  12: 4294.3389473154875,\n",
       "  13: 4380.848359486949,\n",
       "  14: 4466.368754416089,\n",
       "  15: 4522.420711094978,\n",
       "  16: 4536.427578452413,\n",
       "  17: 4587.098443664006,\n",
       "  18: 4622.107837952761,\n",
       "  19: 4612.890107622797,\n",
       "  20: 4632.693976139521,\n",
       "  21: 4712.917548435062,\n",
       "  22: 4676.301064518744,\n",
       "  23: 4691.189310956096,\n",
       "  24: 4755.990767231825,\n",
       "  25: 4804.323266214411},\n",
       " '6 best features': {1: 2912.5938237554196,\n",
       "  2: 3166.153231001023,\n",
       "  3: 2946.297423963006,\n",
       "  4: 3236.6679708979473,\n",
       "  5: 3478.510890118539,\n",
       "  6: 3682.857366242685,\n",
       "  7: 3808.4181311071566,\n",
       "  8: 3957.028825824177,\n",
       "  9: 4013.900021606101,\n",
       "  10: 4048.9976278453205,\n",
       "  11: 4156.133694401285,\n",
       "  12: 4195.095896609745,\n",
       "  13: 4304.728620848299,\n",
       "  14: 4379.114229728139,\n",
       "  15: 4448.249476154885,\n",
       "  16: 4479.736820632636,\n",
       "  17: 4570.012108510349,\n",
       "  18: 4621.54803478636,\n",
       "  19: 4666.838563233486,\n",
       "  20: 4731.735093407403,\n",
       "  21: 4815.49073497313,\n",
       "  22: 4867.419973758695,\n",
       "  23: 4933.192529602854,\n",
       "  24: 4948.357240411212,\n",
       "  25: 4957.781470235841}}"
      ]
     },
     "execution_count": 19,
     "metadata": {},
     "output_type": "execute_result"
    }
   ],
   "source": [
    "def knn_train_test(train_col, target_col, df):\n",
    "    np.random.seed(1)\n",
    "        \n",
    "    # Randomize order of rows in data frame.\n",
    "    shuffled_index = np.random.permutation(df.index)\n",
    "    rand_df = df.reindex(shuffled_index)\n",
    "\n",
    "    # Divide number of rows in half and round.\n",
    "    last_train_row = int(len(rand_df) / 2)\n",
    "    \n",
    "    # Select the first half and set as training set.\n",
    "    # Select the second half and set as test set.\n",
    "    train_df = rand_df.iloc[0:last_train_row]\n",
    "    test_df = rand_df.iloc[last_train_row:]\n",
    "    \n",
    "    k_values = [i for i in range(1, 26)]\n",
    "    k_rmses = {}\n",
    "    \n",
    "    for k in k_values:\n",
    "        # Fit model using k nearest neighbors.\n",
    "        knn = KNeighborsRegressor(n_neighbors=k)\n",
    "        knn.fit(train_df[train_col], train_df[target_col])\n",
    "\n",
    "        # Make predictions using model.\n",
    "        predicted_labels = knn.predict(test_df[train_col])\n",
    "\n",
    "        # Calculate and return RMSE.\n",
    "        mse = mean_squared_error(test_df[target_col], predicted_labels)\n",
    "        rmse = np.sqrt(mse)\n",
    "        \n",
    "        k_rmses[k] = rmse\n",
    "    return k_rmses\n",
    "\n",
    "k_rmse_results = {}\n",
    "\n",
    "for nr_best_feats in range(2,7):\n",
    "    k_rmse_results['{} best features'.format(nr_best_feats)] = knn_train_test(sorted_features[:nr_best_feats],'price',numeric_cars)\n",
    "\n",
    "k_rmse_results"
   ]
  },
  {
   "cell_type": "code",
   "execution_count": 22,
   "metadata": {
    "collapsed": false
   },
   "outputs": [
    {
     "data": {
      "text/plain": [
       "<matplotlib.legend.Legend at 0x7f86f616bac8>"
      ]
     },
     "execution_count": 22,
     "metadata": {},
     "output_type": "execute_result"
    },
    {
     "data": {
      "image/png": "[encoded data removed]",
      "text/plain": [
       "<matplotlib.figure.Figure at 0x7f86f6176198>"
      ]
     },
     "metadata": {},
     "output_type": "display_data"
    }
   ],
   "source": [
    "plt.figure(figsize=(10,8))\n",
    "for k,v in k_rmse_results.items():\n",
    "    x = list(v.keys())\n",
    "    y = list(v.values())  \n",
    "    plt.plot(x,y, label=\"{}\".format(k))\n",
    "    \n",
    "plt.xlabel('k value')\n",
    "plt.ylabel('RMSE')\n",
    "plt.legend(loc='upper left')"
   ]
  },
  {
   "cell_type": "markdown",
   "metadata": {},
   "source": [
    "## Conclusion\n",
    "The 3 best features that perform the best to predict price:\n",
    "    1. engine-size\n",
    "    2. horsepower\n",
    "    3. curbweight\n",
    "The 3 worst features:\n",
    "    1.stroke\n",
    "    2.peak-rpm\n",
    "    3.height\n",
    "    \n",
    "From the RMSE values in the plot above, we can see that 2 best features performed really well in minimizing the RMSE value however, having too small number of features, we can lead our project to have big bias. So, it will be safe to have 3 or 4 best features to predict the price.\n",
    "\n",
    "Our future step can be using k-fold validation to have better accuracy than a simple train/test validation we performed above."
   ]
  },
  {
   "cell_type": "markdown",
   "metadata": {},
   "source": [
    "## K-Fold validation"
   ]
  },
  {
   "cell_type": "code",
   "execution_count": 24,
   "metadata": {
    "collapsed": false
   },
   "outputs": [
    {
     "name": "stdout",
     "output_type": "stream",
     "text": [
      "2 folds: average RMSE is 4010.0951980581976\n",
      "3 folds: average RMSE is 3634.0267054987667\n",
      "4 folds: average RMSE is 3492.4826978756364\n",
      "5 folds: average RMSE is 3421.3742344782236\n",
      "6 folds: average RMSE is 3306.311928423313\n",
      "7 folds: average RMSE is 3293.3169974903317\n",
      "8 folds: average RMSE is 3286.2177372861543\n",
      "9 folds: average RMSE is 3241.6054021254004\n"
     ]
    }
   ],
   "source": [
    "from sklearn.model_selection import cross_val_score, KFold\n",
    "folds_values = [f for f in range(2,10)]\n",
    "k_folds_dict = {}\n",
    "\n",
    "for folds in folds_values:\n",
    "    kf = KFold(folds, shuffle=True, random_state=1)\n",
    "    knn = KNeighborsRegressor()\n",
    "    mses = cross_val_score(knn,\n",
    "                         numeric_cars[sorted_features],\n",
    "                         numeric_cars['price'],\n",
    "                         scoring='neg_mean_squared_error',\n",
    "                         cv=kf)\n",
    "    rmses = np.sqrt(np.abs(mses))\n",
    "    avg_rmse = np.mean(rmses)\n",
    "    k_folds_dict[folds] = avg_rmse\n",
    "    print(str(folds), 'folds:', 'average RMSE is',str(avg_rmse))  "
   ]
  },
  {
   "cell_type": "code",
   "execution_count": 25,
   "metadata": {
    "collapsed": false
   },
   "outputs": [
    {
     "data": {
      "text/plain": [
       "[<matplotlib.lines.Line2D at 0x7f86f5f3ae48>]"
      ]
     },
     "execution_count": 25,
     "metadata": {},
     "output_type": "execute_result"
    },
    {
     "data": {
      "image/png": "[encoded data removed]",
      "text/plain": [
       "<matplotlib.figure.Figure at 0x7f86f60550b8>"
      ]
     },
     "metadata": {},
     "output_type": "display_data"
    }
   ],
   "source": [
    "lists = sorted(k_folds_dict.items()) \n",
    "\n",
    "x, y = zip(*lists)\n",
    "plt.xlabel('Number of Folds')\n",
    "plt.ylabel('Average RMSE')\n",
    "plt.grid(True)\n",
    "plt.plot(x, y)"
   ]
  },
  {
   "cell_type": "markdown",
   "metadata": {},
   "source": [
    "The finding suggests that the optimal number of fold is 9."
   ]
  },
  {
   "cell_type": "code",
   "execution_count": 27,
   "metadata": {
    "collapsed": false
   },
   "outputs": [
    {
     "name": "stdout",
     "output_type": "stream",
     "text": [
      "1 k: average_rmse is 2455.211009291545\n",
      "2 k: average_rmse is 2643.220408542332\n",
      "3 k: average_rmse is 2892.3709935608103\n",
      "4 k: average_rmse is 3143.4340977671245\n",
      "5 k: average_rmse is 3241.6054021254004\n",
      "6 k: average_rmse is 3453.557684096738\n",
      "7 k: average_rmse is 3647.002022748658\n",
      "8 k: average_rmse is 3789.214591225179\n",
      "9 k: average_rmse is 3881.369673115698\n",
      "10 k: average_rmse is 3979.408730773547\n"
     ]
    }
   ],
   "source": [
    "nn_value = [k for k in range(1,11)]\n",
    "k_neighbor_dict = {}\n",
    "\n",
    "for k in nn_value:\n",
    "\n",
    "    kf = KFold(n_splits=9, shuffle=True, random_state=1)\n",
    "    knn = KNeighborsRegressor(n_neighbors=k)\n",
    "    mses = cross_val_score(knn,\n",
    "                         numeric_cars[sorted_features],\n",
    "                         numeric_cars['price'],\n",
    "                         scoring='neg_mean_squared_error',\n",
    "                         cv=kf)\n",
    "    rmses = np.sqrt(np.abs(mses))\n",
    "    avg_rmse = np.mean(rmses)\n",
    "    k_neighbor_dict[k] = avg_rmse\n",
    "    print(str(k), 'k:', 'average_rmse is', str(avg_rmse))"
   ]
  },
  {
   "cell_type": "code",
   "execution_count": 28,
   "metadata": {
    "collapsed": false
   },
   "outputs": [
    {
     "data": {
      "text/plain": [
       "[<matplotlib.lines.Line2D at 0x7f86f5f35cc0>]"
      ]
     },
     "execution_count": 28,
     "metadata": {},
     "output_type": "execute_result"
    },
    {
     "data": {
      "image/png": "[encoded data removed]",
      "text/plain": [
       "<matplotlib.figure.Figure at 0x7f86f606e8d0>"
      ]
     },
     "metadata": {},
     "output_type": "display_data"
    }
   ],
   "source": [
    "lists = sorted(k_neighbor_dict.items()) \n",
    "\n",
    "x, y = zip(*lists)\n",
    "plt.xlabel('K Value')\n",
    "plt.ylabel('Average RMSE')\n",
    "plt.grid(True)\n",
    "plt.plot(x, y)"
   ]
  },
  {
   "cell_type": "markdown",
   "metadata": {},
   "source": [
    "As expected, the optimal number of k-nearest neighbor is 1 when the number of folds is 9."
   ]
  },
  {
   "cell_type": "code",
   "execution_count": 29,
   "metadata": {
    "collapsed": false
   },
   "outputs": [
    {
     "name": "stdout",
     "output_type": "stream",
     "text": [
      "1 best features folds: average RMSE is 3931.265204700127\n",
      "2 best features folds: average RMSE is 3065.693779742312\n",
      "3 best features folds: average RMSE is 3028.991456774396\n",
      "4 best features folds: average RMSE is 2622.2819111587946\n",
      "5 best features folds: average RMSE is 2538.848736410437\n",
      "6 best features folds: average RMSE is 2500.1118724761914\n",
      "7 best features folds: average RMSE is 2470.9586747539565\n",
      "8 best features folds: average RMSE is 2586.34778738865\n",
      "9 best features folds: average RMSE is 2629.2680249410982\n",
      "10 best features folds: average RMSE is 2670.790203117891\n",
      "11 best features folds: average RMSE is 2663.832412213919\n",
      "12 best features folds: average RMSE is 2573.786627308365\n",
      "13 best features folds: average RMSE is 2783.968814696634\n"
     ]
    }
   ],
   "source": [
    "top_features_dict = {}\n",
    "\n",
    "for n in range(1,14):\n",
    "\n",
    "    kf = KFold(n_splits=6, shuffle=True, random_state=1)\n",
    "    knn = KNeighborsRegressor(n_neighbors=1)\n",
    "    mses = cross_val_score(knn,\n",
    "                        numeric_cars[sorted_features[:n]],\n",
    "                        numeric_cars['price'],\n",
    "                        scoring='neg_mean_squared_error',\n",
    "                        cv=kf)\n",
    "    rmses = np.sqrt(np.abs(mses))\n",
    "    avg_rmse = np.mean(rmses)\n",
    "    top_features_dict[n] = avg_rmse\n",
    "    print(str(n), 'best features folds: average RMSE is', str(avg_rmse))"
   ]
  },
  {
   "cell_type": "code",
   "execution_count": 30,
   "metadata": {
    "collapsed": false
   },
   "outputs": [
    {
     "data": {
      "text/plain": [
       "[<matplotlib.lines.Line2D at 0x7f86f8342d68>]"
      ]
     },
     "execution_count": 30,
     "metadata": {},
     "output_type": "execute_result"
    },
    {
     "data": {
      "image/png": "[encoded data removed]",
      "text/plain": [
       "<matplotlib.figure.Figure at 0x7f86f5f235f8>"
      ]
     },
     "metadata": {},
     "output_type": "display_data"
    }
   ],
   "source": [
    "lists = sorted(top_features_dict.items()) \n",
    "\n",
    "x, y = zip(*lists)\n",
    "plt.xlabel('n Best Features')\n",
    "plt.ylabel('Average RMSE')\n",
    "plt.grid(True)\n",
    "plt.plot(x, y)"
   ]
  },
  {
   "cell_type": "markdown",
   "metadata": {},
   "source": [
    "The finding unveils that the optimal n-best features is 7, when nearest neighbor is 1 and fold is 9."
   ]
  },
  {
   "cell_type": "markdown",
   "metadata": {},
   "source": [
    "## Second Conclusions\n",
    "\n",
    "Based on the input values from the dataset, we conclude that the optimal value are following:\n",
    "\n",
    "k-nearest neighbors: 1\n",
    "number of folds: 9\n",
    "n-best features: 7\n",
    "\n",
    "The RMSE is at the lowest when value of k-nearest neighbor is 1 when other variables are hold constant, which suggests that the variance between data is low."
   ]
  },
  {
   "cell_type": "code",
   "execution_count": null,
   "metadata": {
    "collapsed": true
   },
   "outputs": [],
   "source": []
  }
 ],
 "metadata": {
  "kernelspec": {
   "display_name": "Python 3",
   "language": "python",
   "name": "python3"
  },
  "language_info": {
   "codemirror_mode": {
    "name": "ipython",
    "version": 3
   },
   "file_extension": ".py",
   "mimetype": "text/x-python",
   "name": "python",
   "nbconvert_exporter": "python",
   "pygments_lexer": "ipython3",
   "version": "3.4.3"
  }
 },
 "nbformat": 4,
 "nbformat_minor": 2
}
